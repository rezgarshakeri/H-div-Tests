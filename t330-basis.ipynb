{
 "cells": [
  {
   "cell_type": "code",
   "execution_count": 1,
   "metadata": {},
   "outputs": [],
   "source": [
    "using LinearAlgebra\n",
    "using Jacobi\n",
    "using Test"
   ]
  },
  {
   "cell_type": "markdown",
   "metadata": {},
   "source": [
    "# Prime Basis"
   ]
  },
  {
   "cell_type": "markdown",
   "metadata": {},
   "source": [
    "The prime basis is defined in reference element $\\hat{E}=[-1,1]^2$as given in eq(2.15) of Wheeler and Yotov 2006 SIAM paper.\n",
    "$$\n",
    "\\hat{\\boldsymbol{V}}(\\hat{E}) = P_1(\\hat{E})^2 + r \\, \\text{curl} (\\hat{x}^2\\hat{y}) + s \\, \\text{curl} (\\hat{x}\\hat{y}^2)\n",
    "$$"
   ]
  },
  {
   "cell_type": "code",
   "execution_count": 2,
   "metadata": {},
   "outputs": [
    {
     "data": {
      "text/plain": [
       "VondermondeMat (generic function with 1 method)"
      ]
     },
     "execution_count": 2,
     "metadata": {},
     "output_type": "execute_result"
    }
   ],
   "source": [
    "function PrimeBasis(xhat, yhat)\n",
    "\n",
    "    \"\"\"\n",
    "    Input:\n",
    "    xhat, yhat: are defined on the reference element Ehat=[-1,1]^2\n",
    "    \n",
    "    Return:\n",
    "    Prime basis: of size (2,8) evaluated at xhat,yhat\n",
    "    Note the first entries \"2\", are prime basis in the directions x,y\n",
    "    \"m\" are the length of xhat,yhat\n",
    "    \"8\" is the dimension of the prime basis\n",
    "    \"\"\"\n",
    "    m = length(xhat)\n",
    "\n",
    "    P = zeros(2,m,8)\n",
    "    P[1,:,1] = ones(m)\n",
    "    P[1,:,2] = xhat\n",
    "    P[1,:,3] = yhat\n",
    "    P[2,:,4] = ones(m)\n",
    "    P[2,:,5] = xhat\n",
    "    P[2,:,6] = yhat\n",
    "    \n",
    "    # supplement (curl term)\n",
    "    P[1,:,7] = (xhat.^2)\n",
    "    P[2,:,7] = (-2*xhat .* yhat)\n",
    "\n",
    "    P[1,:,8] = (2*xhat .* yhat)\n",
    "    P[2,:,8] = (-yhat.^2)\n",
    "    \n",
    "    return P\n",
    "end\n",
    "\n",
    "function VondermondeMat()\n",
    "    \"\"\"\n",
    "    Input:\n",
    "    ------\n",
    "    Note\n",
    "    3---4\n",
    "    |   |\n",
    "    1---2\n",
    "    Output:\n",
    "    ------\n",
    "    VM: the 8x8 vondermonde matrix\n",
    "    \"\"\"\n",
    "    # normals\n",
    "    nl = [-1.0;0.0]\n",
    "    nr = [1.0;0.0]\n",
    "    nb = [0.0;-1.0]\n",
    "    nt = [0.0;1.0]\n",
    "    # nodes\n",
    "    node1 = [-1.;-1.]\n",
    "    node2 = [1.;-1.]\n",
    "    node3 = [-1.;1.]\n",
    "    node4 = [1.;1.]\n",
    "\n",
    "    nodes = [node1 node2 node2 node4 node3 node4 node1 node3]\n",
    "    normals = [nb nb nr nr nt nt nl nl]\n",
    "    # vandermonde matrix, V_ij = phi_j(x_i).n_i\n",
    "    VM = zeros(8,8)\n",
    "    for i=1:8\n",
    "        for j=1:8\n",
    "            P = PrimeBasis([nodes[1,i]], [nodes[2,i]])\n",
    "            VM[i,j] = P[1,1,j]*normals[1,i] + P[2,1,j]*normals[2,i]\n",
    "        end\n",
    "    end\n",
    "\n",
    "    return VM\n",
    "end"
   ]
  },
  {
   "cell_type": "markdown",
   "metadata": {},
   "source": [
    "# Nodal Basis in libCEED\n",
    "Following gives the nodal basis for quad element that we use in libCEED. Note that we have 8 dofs and since they are vector, we separate its $x,y$ componanats. Note we have not applied `Piola` map on the basis, we should apply it in Qfunction."
   ]
  },
  {
   "cell_type": "code",
   "execution_count": 3,
   "metadata": {},
   "outputs": [
    {
     "name": "stdout",
     "output_type": "stream",
     "text": [
      "Bx[0] = -0.125 + 0.125*xhat*xhat;\n",
      "By[0] = -0.25 + 0.25*xhat + 0.25*yhat + -0.25*xhat*yhat;\n",
      "Bx[1] = 0.125 + -0.125*xhat*xhat;\n",
      "By[1] = -0.25 + -0.25*xhat + 0.25*yhat + 0.25*xhat*yhat;\n",
      "Bx[2] = 0.25 + 0.25*xhat + -0.25*yhat + -0.25*xhat*yhat;\n",
      "By[2] = -0.125 + 0.125*yhat*yhat;\n",
      "Bx[3] = 0.25 + 0.25*xhat + 0.25*yhat + 0.25*xhat*yhat;\n",
      "By[3] = 0.125 + -0.125*yhat*yhat;\n",
      "Bx[4] = -0.125 + 0.125*xhat*xhat;\n",
      "By[4] = 0.25 + -0.25*xhat + 0.25*yhat + -0.25*xhat*yhat;\n",
      "Bx[5] = 0.125 + -0.125*xhat*xhat;\n",
      "By[5] = 0.25 + 0.25*xhat + 0.25*yhat + 0.25*xhat*yhat;\n",
      "Bx[6] = -0.25 + 0.25*xhat + 0.25*yhat + -0.25*xhat*yhat;\n",
      "By[6] = -0.125 + 0.125*yhat*yhat;\n",
      "Bx[7] = -0.25 + 0.25*xhat + -0.25*yhat + 0.25*xhat*yhat;\n",
      "By[7] = 0.125 + -0.125*yhat*yhat;\n"
     ]
    }
   ],
   "source": [
    "VM = VondermondeMat();\n",
    "invVM = inv(VM);\n",
    "V = Array{String}(undef, 2,8)\n",
    "for i = 1:8\n",
    "    b = zeros(8)\n",
    "    b[i] = 1\n",
    "    xx = invVM * b\n",
    "    \n",
    "    vx = Array{String}(undef, 5)\n",
    "    vy = Array{String}(undef, 5)\n",
    "    \n",
    "    vx[1] = \"\"\n",
    "    vx[2] = \"*xhat\"\n",
    "    vx[3] = \"*yhat\"\n",
    "    vx[4] = \"*xhat*xhat\"\n",
    "    # This is 2xy, we multiplied 2 in the coefficient vector V1\n",
    "    vx[5] = \"*xhat*yhat\"\n",
    "    \n",
    "    vy[1] = \"\"\n",
    "    vy[2] = \"*xhat\"\n",
    "    vy[3] = \"*yhat\"\n",
    "    # This is -2xy, we multiplied -2 in the coefficient vector V2\n",
    "    vy[4] = \"*xhat*yhat\"\n",
    "    # This is -y^2, we multiplied -1 in the coefficient vector V2\n",
    "    vy[5] = \"*yhat*yhat\"\n",
    "    V1 = [xx[1] xx[2] xx[3] xx[7] 2*xx[8]]\n",
    "    V2 = [xx[4] xx[5] xx[6] -2*xx[7] -xx[8]]\n",
    "    \n",
    "    VX = join((\"$a\"vx[i] for (i,a) in enumerate(V1) if a ≠ 0), \" + \")\n",
    "    VY = join((\"$a\"vy[i] for (i,a) in enumerate(V2) if a ≠ 0), \" + \")\n",
    "    #println(\"============= Nodal Basis of dof$i =============\\n\")\n",
    "    println(\"Bx[$(i-1)] = \",VX, \";\")\n",
    "    println(\"By[$(i-1)] = \",VY, \";\")\n",
    "    #println(\"\\n\")\n",
    "    \n",
    "    V[1,i] = VX\n",
    "    V[2,i] = VY\n",
    "end"
   ]
  },
  {
   "cell_type": "code",
   "execution_count": 4,
   "metadata": {},
   "outputs": [
    {
     "data": {
      "text/plain": [
       "1×8 Matrix{Float64}:\n",
       " 0.25  0.25  0.25  0.25  0.25  0.25  0.25  0.25"
      ]
     },
     "execution_count": 4,
     "metadata": {},
     "output_type": "execute_result"
    }
   ],
   "source": [
    "# this is divergence of the nodal basis that we use it in libCEED\n",
    "divV = [0. 1. 0. 0. 0. 1. 0. 0.]\n",
    "Dhat = divV * invVM"
   ]
  },
  {
   "cell_type": "markdown",
   "metadata": {},
   "source": [
    "# CeedBasisView"
   ]
  },
  {
   "cell_type": "code",
   "execution_count": 10,
   "metadata": {},
   "outputs": [
    {
     "data": {
      "text/plain": [
       "GetBasis (generic function with 1 method)"
      ]
     },
     "execution_count": 10,
     "metadata": {},
     "output_type": "execute_result"
    }
   ],
   "source": [
    "function GetBasis(xhat, yhat)\n",
    "    \"\"\"\n",
    "    We create basis as a matrix of size (2*num_qpts,8)\n",
    "    The first 1:num_qpts is dof in x-direction\n",
    "    and num_qpts+1:2*num_qpts is dof in y-direction\n",
    "    And\n",
    "    Div operator as a matrix (num_qpts,8)\n",
    "    \"\"\"\n",
    "    m = length(xhat)\n",
    "    Bx = zeros(m,8)\n",
    "    By = zeros(m,8) \n",
    "    Bx[:,1] = @. -0.125 + 0.125*xhat*xhat;\n",
    "    By[:,1] = @. -0.25 + 0.25*xhat + 0.25*yhat + -0.25*xhat*yhat;\n",
    "    Bx[:,2] = @. 0.125 + -0.125*xhat*xhat;\n",
    "    By[:,2] = @. -0.25 + -0.25*xhat + 0.25*yhat + 0.25*xhat*yhat;\n",
    "    Bx[:,3] = @. 0.25 + 0.25*xhat + -0.25*yhat + -0.25*xhat*yhat;\n",
    "    By[:,3] = @. -0.125 + 0.125*yhat*yhat;\n",
    "    Bx[:,4] = @. 0.25 + 0.25*xhat + 0.25*yhat + 0.25*xhat*yhat;\n",
    "    By[:,4] = @. 0.125 + -0.125*yhat*yhat;\n",
    "    Bx[:,5] = @. -0.125 + 0.125*xhat*xhat;\n",
    "    By[:,5] = @. 0.25 + -0.25*xhat + 0.25*yhat + -0.25*xhat*yhat;\n",
    "    Bx[:,6] = @. 0.125 + -0.125*xhat*xhat;\n",
    "    By[:,6] = @. 0.25 + 0.25*xhat + 0.25*yhat + 0.25*xhat*yhat;\n",
    "    Bx[:,7] = @. -0.25 + 0.25*xhat + 0.25*yhat + -0.25*xhat*yhat;\n",
    "    By[:,7] = @. -0.125 + 0.125*yhat*yhat;\n",
    "    Bx[:,8] = @. -0.25 + 0.25*xhat + -0.25*yhat + 0.25*xhat*yhat;\n",
    "    By[:,8] = @. 0.125 + -0.125*yhat*yhat\n",
    "\n",
    "    B = zeros(2m,8)\n",
    "    B[1:m,:] = Bx[1:m,:]\n",
    "    B[m+1:2*m,:] = By[1:m,:]\n",
    "    \n",
    "    Dhat = zeros(1,8)\n",
    "    Dhat[1,:] .= 0.25;\n",
    "    Div = repeat(Dhat, inner=(m,1))\n",
    "    \n",
    "    return B, Div\n",
    "end"
   ]
  },
  {
   "cell_type": "code",
   "execution_count": 11,
   "metadata": {},
   "outputs": [
    {
     "data": {
      "text/plain": [
       "GetQuadrature2D (generic function with 1 method)"
      ]
     },
     "execution_count": 11,
     "metadata": {},
     "output_type": "execute_result"
    }
   ],
   "source": [
    "function GetQuadrature2D(Q, quad_mode)\n",
    "    \"\"\" \n",
    "    Input:\n",
    "    Q: number of quadrature points in 1D over [-1,1]\n",
    "    quad_mode: GAUSS or LOBATTO\n",
    "    Return:Gauss Quadrature data over [-1,1]^2.\n",
    "    w: weights of quadrature pts\n",
    "    qx: quadrature pts in x\n",
    "    qy: quadrature pts in y \n",
    "    \"\"\"\n",
    "    \n",
    "    # 1D Gauss\n",
    "    if quad_mode == \"GAUSS\"\n",
    "        q = zgj(Q, 0.0, 0.0)\n",
    "        w1 = wgj(q, 0.0, 0.0)\n",
    "    elseif quad_mode == \"LOBATTO\"\n",
    "        q = zglj(Q, 0.0, 0.0)\n",
    "        w1 = wglj(q, 0.0, 0.0)\n",
    "    end\n",
    "    w = zeros(Q*Q)\n",
    "    qx = zeros(Q*Q)\n",
    "    qy = zeros(Q*Q)\n",
    "    for i=1:Q\n",
    "        for j=1:Q\n",
    "            k = (i-1)*Q +j\n",
    "            qx[k] = q[j]\n",
    "            qy[k] = q[i]\n",
    "            w[k] = w1[j]*w1[i]\n",
    "        end\n",
    "    end\n",
    "    return w, qx, qy\n",
    "end"
   ]
  },
  {
   "cell_type": "code",
   "execution_count": 15,
   "metadata": {},
   "outputs": [],
   "source": [
    "Q = 3\n",
    "num_qpts = Q*Q\n",
    "w2, qx, qy = GetQuadrature2D(Q, \"GAUSS\")\n",
    "B, Div = GetBasis(qx, qy);"
   ]
  },
  {
   "cell_type": "code",
   "execution_count": 16,
   "metadata": {},
   "outputs": [
    {
     "data": {
      "text/plain": [
       "18×8 Matrix{Float64}:\n",
       " -0.05        0.05        0.1        …  0.05       -0.787298   -0.1\n",
       " -0.125       0.125       0.443649      0.125      -0.443649   -0.0563508\n",
       " -0.05        0.05        0.787298      0.05       -0.1        -0.0127017\n",
       " -0.05        0.05        0.0563508     0.05       -0.443649   -0.443649\n",
       " -0.125       0.125       0.25          0.125      -0.25       -0.25\n",
       " -0.05        0.05        0.443649   …  0.05       -0.0563508  -0.0563508\n",
       " -0.05        0.05        0.0127017     0.05       -0.1        -0.787298\n",
       " -0.125       0.125       0.0563508     0.125      -0.0563508  -0.443649\n",
       " -0.05        0.05        0.1           0.05       -0.0127017  -0.1\n",
       " -0.787298   -0.1        -0.05          0.0127017  -0.05        0.05\n",
       " -0.443649   -0.443649   -0.05       …  0.0563508  -0.05        0.05\n",
       " -0.1        -0.787298   -0.05          0.1        -0.05        0.05\n",
       " -0.443649   -0.0563508  -0.125         0.0563508  -0.125       0.125\n",
       " -0.25       -0.25       -0.125         0.25       -0.125       0.125\n",
       " -0.0563508  -0.443649   -0.125         0.443649   -0.125       0.125\n",
       " -0.1        -0.0127017  -0.05       …  0.1        -0.05        0.05\n",
       " -0.0563508  -0.0563508  -0.05          0.443649   -0.05        0.05\n",
       " -0.0127017  -0.1        -0.05          0.787298   -0.05        0.05"
      ]
     },
     "execution_count": 16,
     "metadata": {},
     "output_type": "execute_result"
    }
   ],
   "source": [
    "B"
   ]
  },
  {
   "cell_type": "code",
   "execution_count": 17,
   "metadata": {},
   "outputs": [
    {
     "data": {
      "text/plain": [
       "9×8 Matrix{Float64}:\n",
       " 0.25  0.25  0.25  0.25  0.25  0.25  0.25  0.25\n",
       " 0.25  0.25  0.25  0.25  0.25  0.25  0.25  0.25\n",
       " 0.25  0.25  0.25  0.25  0.25  0.25  0.25  0.25\n",
       " 0.25  0.25  0.25  0.25  0.25  0.25  0.25  0.25\n",
       " 0.25  0.25  0.25  0.25  0.25  0.25  0.25  0.25\n",
       " 0.25  0.25  0.25  0.25  0.25  0.25  0.25  0.25\n",
       " 0.25  0.25  0.25  0.25  0.25  0.25  0.25  0.25\n",
       " 0.25  0.25  0.25  0.25  0.25  0.25  0.25  0.25\n",
       " 0.25  0.25  0.25  0.25  0.25  0.25  0.25  0.25"
      ]
     },
     "execution_count": 17,
     "metadata": {},
     "output_type": "execute_result"
    }
   ],
   "source": [
    "Div"
   ]
  },
  {
   "cell_type": "code",
   "execution_count": 21,
   "metadata": {},
   "outputs": [],
   "source": [
    "# Just to check the values with libCEED, copied the result of t330-basis.c for Q=3, and CEED_GAUSS\n",
    "B_CEED = [\n",
    "-0.05000000  0.05000000  0.10000000 0.01270167 -0.05000000 0.05000000 -0.78729833 -0.10000000;\n",
    "-0.12500000  0.12500000  0.44364917 0.05635083 -0.12500000 0.12500000 -0.44364917 -0.05635083;\n",
    "-0.05000000  0.05000000  0.78729833 0.10000000 -0.05000000 0.05000000 -0.10000000 -0.01270167;\n",
    "-0.05000000  0.05000000  0.05635083 0.05635083 -0.05000000 0.05000000 -0.44364917 -0.44364917;\n",
    "-0.12500000  0.12500000  0.25000000 0.25000000 -0.12500000 0.12500000 -0.25000000 -0.25000000;\n",
    "-0.05000000  0.05000000  0.44364917 0.44364917 -0.05000000 0.05000000 -0.05635083 -0.05635083;\n",
    "-0.05000000  0.05000000  0.01270167 0.10000000 -0.05000000 0.05000000 -0.10000000 -0.78729833;\n",
    "-0.12500000  0.12500000  0.05635083 0.44364917 -0.12500000 0.12500000 -0.05635083 -0.44364917;\n",
    "-0.05000000  0.05000000  0.10000000 0.78729833 -0.05000000 0.05000000 -0.01270167 -0.10000000;\n",
    "-0.78729833 -0.10000000 -0.05000000 0.05000000  0.10000000 0.01270167 -0.05000000  0.05000000;\n",
    "-0.44364917 -0.44364917 -0.05000000 0.05000000  0.05635083 0.05635083 -0.05000000  0.05000000;\n",
    "-0.10000000 -0.78729833 -0.05000000 0.05000000  0.01270167 0.10000000 -0.05000000  0.05000000;\n",
    "-0.44364917 -0.05635083 -0.12500000 0.12500000  0.44364917 0.05635083 -0.12500000  0.12500000;\n",
    "-0.25000000 -0.25000000 -0.12500000 0.12500000  0.25000000 0.25000000 -0.12500000  0.12500000;\n",
    "-0.05635083 -0.44364917 -0.12500000 0.12500000  0.05635083 0.44364917 -0.12500000  0.12500000;\n",
    "-0.10000000 -0.01270167 -0.05000000 0.05000000  0.78729833 0.10000000 -0.05000000  0.05000000;\n",
    "-0.05635083 -0.05635083 -0.05000000 0.05000000  0.44364917 0.44364917 -0.05000000  0.05000000;\n",
    "-0.01270167 -0.10000000 -0.05000000 0.05000000  0.10000000 0.78729833 -0.05000000  0.05000000\n",
    "];"
   ]
  },
  {
   "cell_type": "code",
   "execution_count": 22,
   "metadata": {},
   "outputs": [
    {
     "data": {
      "text/plain": [
       "\u001b[32m\u001b[1mTest Passed\u001b[22m\u001b[39m"
      ]
     },
     "execution_count": 22,
     "metadata": {},
     "output_type": "execute_result"
    }
   ],
   "source": [
    "@test B_CEED ≈ B"
   ]
  },
  {
   "cell_type": "code",
   "execution_count": null,
   "metadata": {},
   "outputs": [],
   "source": []
  }
 ],
 "metadata": {
  "kernelspec": {
   "display_name": "Julia 1.6.0",
   "language": "julia",
   "name": "julia-1.6"
  },
  "language_info": {
   "file_extension": ".jl",
   "mimetype": "application/julia",
   "name": "julia",
   "version": "1.6.0"
  }
 },
 "nbformat": 4,
 "nbformat_minor": 4
}
