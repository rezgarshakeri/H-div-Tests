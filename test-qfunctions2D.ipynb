{
 "cells": [
  {
   "cell_type": "code",
   "execution_count": 1,
   "metadata": {},
   "outputs": [],
   "source": [
    "using Plots\n",
    "using LinearAlgebra\n",
    "using Jacobi\n",
    "using Test\n",
    "using SparseArrays"
   ]
  },
  {
   "cell_type": "markdown",
   "metadata": {},
   "source": [
    "# Bilinear Map, Prime and Nodal Basis"
   ]
  },
  {
   "cell_type": "code",
   "execution_count": 2,
   "metadata": {},
   "outputs": [
    {
     "data": {
      "text/plain": [
       "GetNormal (generic function with 1 method)"
      ]
     },
     "execution_count": 2,
     "metadata": {},
     "output_type": "execute_result"
    }
   ],
   "source": [
    "function BilinearMap(Coord_E, xhat, yhat)\n",
    "    \"\"\" \n",
    "    This function maps [xhat,yhat] in Ehat=[-1,1]^2 \n",
    "    to (x,y) in quadrilateral E.\n",
    "    Input:\n",
    "    ------\n",
    "    coord_E: coordinates of quadrilateral E .\n",
    "    coord_E is 4x2 array\n",
    "    coord_E = [x1 y1;x2 y2;x3 y3;x4 y4] with vertices numbering\n",
    "    3----4\n",
    "    |    |\n",
    "    1----2\n",
    "    [xhat, yhat] in Ehat\n",
    "    Output:\n",
    "    ------\n",
    "    x, y: mapped vector in E.\n",
    "    DF_E: Jacobian matrix\n",
    "    J_E: det(DF_E)\n",
    "    \"\"\"\n",
    "    m = length(xhat)\n",
    "    N1 = @. 0.25*(1-xhat)*(1-yhat)\n",
    "    N2 = @. 0.25*(1+xhat)*(1-yhat)\n",
    "    N3 = @. 0.25*(1-xhat)*(1+yhat)\n",
    "    N4 = @. 0.25*(1+xhat)*(1+yhat)\n",
    "    N = [N1 N2 N3 N4]\n",
    "    X = N * Coord_E\n",
    "    # X(2,m), 1st row x, 2nd row y,\n",
    "    X = X'\n",
    "    # gradient of N, [dN/dxhat; dN/dyhat]\n",
    "    GradN = zeros(2,m,4)\n",
    "    GradN[1,:,:] = @. 0.25*[-(1-yhat) (1-yhat) -(1+yhat) (1+yhat)]\n",
    "    GradN[2,:,:] = @. 0.25*[-(1-xhat) -(1+xhat) (1-xhat) (1+xhat)]\n",
    "\n",
    "    # JT = [[dx/dxhat, dy/dxhat],\n",
    "    #       [dx/dyhat, dy/dyhat]] (3m x 3)\n",
    "\n",
    "    JTxhat = GradN[1,:,:] * Coord_E\n",
    "    dxdxhat = JTxhat[:,1]\n",
    "    dydxhat = JTxhat[:,2]\n",
    "    JTyhat = GradN[2,:,:] * Coord_E\n",
    "    dxdyhat = JTyhat[:,1]\n",
    "    dydyhat = JTyhat[:,2]\n",
    "\n",
    "    # compute det\n",
    "    detJ = @. dxdxhat*dydyhat - dydxhat*dxdyhat\n",
    "    \n",
    "    J = zeros(2,m,2)\n",
    "    J[1,:,:] = [dxdxhat dxdyhat]\n",
    "    J[2,:,:] = [dydxhat dydyhat]\n",
    "    \n",
    "    return X, J, detJ\n",
    "end\n",
    "\n",
    "function GetNormal(Coord_E, xhat, yhat)\n",
    "    \"\"\"\n",
    "    Input:\n",
    "    ------\n",
    "    coord_E: vertices coordinate of element E\n",
    "    (xhat,yhat): coordinate of the edge in element Ehat=[-1,1]^2\n",
    "\n",
    "    Output:\n",
    "    -------\n",
    "    n: computed normal of an edge of element E\n",
    "    \"\"\"\n",
    "\n",
    "    X, J, detJ = BilinearMap(Coord_E, xhat, yhat)\n",
    "    \n",
    "    dxdxhat = J[1,:,1]\n",
    "    dydxhat = J[2,:,1]\n",
    "    \n",
    "    dxdyhat = J[1,:,2]\n",
    "    dydyhat = J[2,:,2]\n",
    "    m = length(xhat)\n",
    "    \n",
    "    if (xhat == -ones(m) && -ones(m) < yhat < ones(m))\n",
    "        # left edge, (0,0,1)x(dxdyhat,dydyhat,0)\n",
    "        n1 = @. -dydyhat\n",
    "        n2 = @. dxdyhat\n",
    "        leng = @. sqrt(n1*n1 + n2*n2)\n",
    "        n = zeros(2,m)\n",
    "        n[1,:] = n1 ./ leng\n",
    "        n[2,:] = n2 ./ leng\n",
    "\n",
    "    elseif (xhat == ones(m) && -ones(m) < yhat < ones(m))\n",
    "        # right edge, (0,0,-1)x(dxdyhat,dydyhat,0)\n",
    "        n1 = @. dydyhat\n",
    "        n2 = @. -dxdyhat\n",
    "        leng = @. sqrt(n1*n1 + n2*n2)\n",
    "        n = zeros(2,m)\n",
    "        n[1,:] = n1 ./ leng\n",
    "        n[2,:] = n2 ./ leng\n",
    "\n",
    "    elseif (yhat == -ones(m) && -ones(m) < xhat < ones(m))\n",
    "        # bottom edge, (0,0,-1)x(dxdxhat,dydxhat,0)\n",
    "        n1 = @. dydxhat\n",
    "        n2 = @. -dxdxhat\n",
    "        leng = @. sqrt(n1*n1 + n2*n2)\n",
    "        n = zeros(2,m)\n",
    "        n[1,:] = n1 ./ leng\n",
    "        n[2,:] = n2 ./ leng\n",
    "\n",
    "    elseif (yhat == ones(m) && -ones(m) < xhat < ones(m))\n",
    "        # top edge, (0,0,1)x(dxdxhat,dydxhat,0)\n",
    "        n1 = @. -dydxhat\n",
    "        n2 = @. dxdxhat\n",
    "        leng = @. sqrt(n1*n1 + n2*n2)\n",
    "        n = zeros(2,m)\n",
    "        n[1,:] = n1 ./ leng\n",
    "        n[2,:] = n2 ./ leng\n",
    "    else\n",
    "        error(\"edge is not defined\")\n",
    "    end\n",
    "\n",
    "    return n, leng\n",
    "end"
   ]
  },
  {
   "cell_type": "code",
   "execution_count": 14,
   "metadata": {},
   "outputs": [
    {
     "data": {
      "text/plain": [
       "GetBasis (generic function with 1 method)"
      ]
     },
     "execution_count": 14,
     "metadata": {},
     "output_type": "execute_result"
    }
   ],
   "source": [
    "function GetBasis(xhat, yhat)\n",
    "    \"\"\"\n",
    "    We create basis as a matrix of size (2*num_qpts,8)\n",
    "    The first 1:num_qpts is dof in x-direction\n",
    "    and num_qpts+1:2*num_qpts is dof in y-direction\n",
    "    And\n",
    "    Div operator as a matrix (num_qpts,8)\n",
    "    \"\"\"\n",
    "    m = length(xhat)\n",
    "    Bx = zeros(m,8)\n",
    "    By = zeros(m,8) \n",
    "  Bx[:,1] = @. -0.125 + 0.125*xhat*xhat;\n",
    "  By[:,1] = @. -0.25 + 0.25*xhat + 0.25*yhat + -0.25*xhat*yhat;\n",
    "  Bx[:,2] = @. 0.125 + -0.125*xhat*xhat;\n",
    "  By[:,2] = @. -0.25 + -0.25*xhat + 0.25*yhat + 0.25*xhat*yhat;\n",
    "  Bx[:,3] = @. 0.25 + 0.25*xhat + -0.25*yhat + -0.25*xhat*yhat;\n",
    "  By[:,3] = @. -0.125 + 0.125*yhat*yhat;\n",
    "  Bx[:,4] = @. 0.25 + 0.25*xhat + 0.25*yhat + 0.25*xhat*yhat;\n",
    "  By[:,4] = @. 0.125 + -0.125*yhat*yhat;\n",
    "  Bx[:,5] = @. -0.125 + 0.125*xhat*xhat;\n",
    "  By[:,5] = @. 0.25 + -0.25*xhat + 0.25*yhat + -0.25*xhat*yhat;\n",
    "  Bx[:,6] = @. 0.125 + -0.125*xhat*xhat;\n",
    "  By[:,6] = @. 0.25 + 0.25*xhat + 0.25*yhat + 0.25*xhat*yhat;\n",
    "  Bx[:,7] = @. -0.25 + 0.25*xhat + 0.25*yhat + -0.25*xhat*yhat;\n",
    "  By[:,7] = @. -0.125 + 0.125*yhat*yhat;\n",
    "  Bx[:,8] = @. -0.25 + 0.25*xhat + -0.25*yhat + 0.25*xhat*yhat;\n",
    "  By[:,8] = @. 0.125 + -0.125*yhat*yhat;\n",
    "\n",
    "    B = zeros(2m,8)\n",
    "    B[1:m,:] = Bx[1:m,:]\n",
    "    B[m+1:2*m,:] = By[1:m,:]\n",
    "    \n",
    "    Dhat = zeros(1,8)\n",
    "    Dhat[1,:] .= 0.25;\n",
    "    Div = repeat(Dhat, inner=(m,1))\n",
    "    \n",
    "    return B, Div\n",
    "end"
   ]
  },
  {
   "cell_type": "code",
   "execution_count": 15,
   "metadata": {},
   "outputs": [
    {
     "data": {
      "text/plain": [
       "GetQuadrature2D (generic function with 1 method)"
      ]
     },
     "execution_count": 15,
     "metadata": {},
     "output_type": "execute_result"
    }
   ],
   "source": [
    "function GetQuadrature2D(Q, quad_mode)\n",
    "    \"\"\" \n",
    "    Input:\n",
    "    Q: number of quadrature points in 1D over [-1,1]\n",
    "    quad_mode: GAUSS or LOBATTO\n",
    "    Return:Gauss Quadrature over [-1,1]^2.\n",
    "    qx:\n",
    "    qy:\n",
    "    w2:\n",
    "    \"\"\"\n",
    "    \n",
    "    # 1D Gauss\n",
    "    if quad_mode == \"GAUSS\"\n",
    "        q = zgj(Q, 0.0, 0.0)\n",
    "        w = wgj(q, 0.0, 0.0)\n",
    "    elseif quad_mode == \"LOBATTO\"\n",
    "        q = zglj(Q, 0.0, 0.0)\n",
    "        w = wglj(q, 0.0, 0.0)\n",
    "    end\n",
    "    w2 = zeros(Q*Q)\n",
    "    qx = zeros(Q*Q)\n",
    "    qy = zeros(Q*Q)\n",
    "    for i=1:Q\n",
    "        for j=1:Q\n",
    "            k = (i-1)*Q +j\n",
    "            qx[k] = q[j]\n",
    "            qy[k] = q[i]\n",
    "            w2[k] = w[j]*w[i]\n",
    "        end\n",
    "    end\n",
    "    return w2, qx, qy\n",
    "end"
   ]
  },
  {
   "cell_type": "markdown",
   "metadata": {},
   "source": [
    "# Create rhs qfunction and check with libCEED\n",
    "$$\\int v^T J^T u_e w $$"
   ]
  },
  {
   "cell_type": "code",
   "execution_count": 16,
   "metadata": {},
   "outputs": [
    {
     "data": {
      "text/plain": [
       "VelocityConstant (generic function with 1 method)"
      ]
     },
     "execution_count": 16,
     "metadata": {},
     "output_type": "execute_result"
    }
   ],
   "source": [
    "function VelocityLinear(x, y)\n",
    "    m = length(x)\n",
    "    ux = @. (1*(x+y))\n",
    "    uy = @. (1*(x-y))\n",
    "    \n",
    "    ue = zeros(2,m)\n",
    "    ue[1,:] = ux\n",
    "    ue[2,:] = uy\n",
    "    return ue\n",
    "end\n",
    "\n",
    "function VelocityConstant(x, y)\n",
    "    m = length(x)\n",
    "    ux =  1\n",
    "    uy =  2\n",
    "    \n",
    "    ue = zeros(2,m)\n",
    "    ue[1,:] .= ux\n",
    "    ue[2,:] .= uy\n",
    "    return ue\n",
    "end"
   ]
  },
  {
   "cell_type": "code",
   "execution_count": 17,
   "metadata": {},
   "outputs": [
    {
     "data": {
      "text/plain": [
       "DiscretizeUe (generic function with 1 method)"
      ]
     },
     "execution_count": 17,
     "metadata": {},
     "output_type": "execute_result"
    }
   ],
   "source": [
    "function DiscretizeUe(Coord_E, uexact)\n",
    "    \"\"\"\n",
    "    This function discretize the vector u = uexact(x,\n",
    "    y,z) on element E\n",
    "    \"\"\"\n",
    "    # get the normals\n",
    "    nl, le_l = GetNormal(Coord_E, [-1.], [0.])\n",
    "    nr, le_r = GetNormal(Coord_E, [1.], [0.])\n",
    "    nb, le_b = GetNormal(Coord_E, [0.], [-1.])\n",
    "    nt, le_t = GetNormal(Coord_E, [0.], [1.])\n",
    "    \n",
    "    nb = nb*le_b\n",
    "    nt = nt*le_t\n",
    "    nr = nr*le_r\n",
    "    nl = nl*le_l\n",
    "\n",
    "    node1 = Coord_E[1,:]\n",
    "    node2 = Coord_E[2,:]\n",
    "    node3 = Coord_E[3,:]\n",
    "    node4 = Coord_E[4,:]\n",
    "    \n",
    "    nodes = [node1 node2 node2 node4 node3 node4 node1 node3]\n",
    "    normals = [nb nb nr nr nt nt nl nl]\n",
    "    \n",
    "    x = nodes[1,:]\n",
    "    y = nodes[2,:]\n",
    "    uu = uexact(x,y)\n",
    "    ue = uu[1,:] .* normals[1,:] + uu[2,:] .* normals[2,:]\n",
    "    \n",
    "    return ue\n",
    "end\n"
   ]
  },
  {
   "cell_type": "code",
   "execution_count": 18,
   "metadata": {},
   "outputs": [
    {
     "data": {
      "text/plain": [
       "GetRhs (generic function with 1 method)"
      ]
     },
     "execution_count": 18,
     "metadata": {},
     "output_type": "execute_result"
    }
   ],
   "source": [
    "function GetRhs(Coord_E, Q, quad_mode, uexact)\n",
    "    \n",
    "    w, qx, qy = GetQuadrature2D(Q, quad_mode)\n",
    "    # total number of quadrature points\n",
    "    num_qpts = Q*Q\n",
    "    # get (x,y,z) on E, detJ,...\n",
    "    coords, dxdX, detJ = BilinearMap(Coord_E, qx, qy)\n",
    "    x = coords[1,:]\n",
    "    y = coords[2,:]\n",
    "    \n",
    "    ue = uexact(x,y)\n",
    "    # output of qfunction\n",
    "    rhs2 = zeros(2*num_qpts,1)\n",
    "    for i=1:num_qpts\n",
    "        J = dxdX[:,i,:]\n",
    "        uu = ue[:,i]\n",
    "        rhs1 = J' * uu       \n",
    "        # component 1\n",
    "        rhs2[i+0*num_qpts, 1] = rhs1[1] *w[i]\n",
    "        # component 2\n",
    "        rhs2[i+1*num_qpts, 1] = rhs1[2] *w[i]\n",
    "    end \n",
    "    \n",
    "    B, Div = GetBasis(qx, qy);\n",
    "    # ApplyBasis\n",
    "    rhs = B' * rhs2\n",
    "    \n",
    "    return rhs\n",
    "end"
   ]
  },
  {
   "cell_type": "code",
   "execution_count": 19,
   "metadata": {},
   "outputs": [
    {
     "data": {
      "text/plain": [
       "8×1 Matrix{Float64}:\n",
       " -0.1666666666666666\n",
       "  2.6020852139652106e-17\n",
       "  0.4999999999999998\n",
       "  0.6666666666666664\n",
       " -0.33333333333333315\n",
       "  0.1666666666666666\n",
       " -0.3333333333333332\n",
       " -0.4999999999999998"
      ]
     },
     "execution_count": 19,
     "metadata": {},
     "output_type": "execute_result"
    }
   ],
   "source": [
    "Q = 3\n",
    "C_E = [0 0;1 0;0 1;1 1]\n",
    "mode = \"GAUSS\"\n",
    "uexact(x,y) = VelocityLinear(x,y)\n",
    "#uexact(x,y) = VelocityConstant(x,y)\n",
    "ue = DiscretizeUe(C_E, uexact);\n",
    "rhs = GetRhs(C_E, Q, mode, uexact)"
   ]
  },
  {
   "cell_type": "markdown",
   "metadata": {},
   "source": [
    "# Create Local Mass Matrix\n",
    "$$(v,u_h) = \\int \\frac{N^T J^T J N w}{detJ} $$"
   ]
  },
  {
   "cell_type": "code",
   "execution_count": 20,
   "metadata": {},
   "outputs": [
    {
     "data": {
      "text/plain": [
       "GetLocalMass (generic function with 1 method)"
      ]
     },
     "execution_count": 20,
     "metadata": {},
     "output_type": "execute_result"
    }
   ],
   "source": [
    "function GetLocalMass(Coord_E, Q, quad_mode)\n",
    "    \n",
    "    w, qx, qy = GetQuadrature2D(Q, quad_mode)\n",
    "    # total number of quadrature points\n",
    "    num_qpts = Q*Q\n",
    "    # get (x,y,z) on E, detJ,...\n",
    "    coords, dxdX, detJ = BilinearMap(Coord_E, qx, qy)\n",
    "    \n",
    "    N, Div = GetBasis(qx, qy);\n",
    "    # output of qfunction\n",
    "    tmp = zeros(2*num_qpts,8)\n",
    "    uu = zeros(2,8)\n",
    "    for i=1:num_qpts\n",
    "        J = dxdX[:,i,:]\n",
    "        uu[1,:] = N[i+0*num_qpts,:]\n",
    "        uu[2,:] = N[i+1*num_qpts,:]\n",
    "        #J^T * J * N * w / detJ\n",
    "        tmp2 = J' * J * uu * w[i] /detJ[i]\n",
    "        # component 1\n",
    "        tmp[i+0*num_qpts, :] = tmp2[1,:]\n",
    "        # component 2\n",
    "        tmp[i+1*num_qpts, :] = tmp2[2,:]\n",
    "    end \n",
    "    \n",
    "    # ApplyBasis\n",
    "    Me = N' * tmp\n",
    "    \n",
    "    return Me\n",
    "end"
   ]
  },
  {
   "cell_type": "code",
   "execution_count": 21,
   "metadata": {},
   "outputs": [
    {
     "data": {
      "text/plain": [
       "8×8 Matrix{Float64}:\n",
       "  0.477778      0.188889      3.43692e-17  …   0.166667     -2.04914e-17\n",
       "  0.188889      0.477778      0.166667         1.19262e-17  -0.166667\n",
       "  3.43421e-17   0.166667      0.477778        -0.188889     -0.144444\n",
       " -0.166667      1.95156e-18   0.188889        -0.144444     -0.188889\n",
       " -0.188889     -0.144444     -0.166667         1.73472e-18   0.166667\n",
       " -0.144444     -0.188889     -1.38778e-17  …  -0.166667      0.0\n",
       "  0.166667      1.19262e-17  -0.188889         0.477778      0.188889\n",
       " -2.04643e-17  -0.166667     -0.144444         0.188889      0.477778"
      ]
     },
     "execution_count": 21,
     "metadata": {},
     "output_type": "execute_result"
    }
   ],
   "source": [
    "Me = GetLocalMass(C_E, Q, mode)"
   ]
  },
  {
   "cell_type": "markdown",
   "metadata": {},
   "source": [
    "# Test Mass matrix"
   ]
  },
  {
   "cell_type": "code",
   "execution_count": 22,
   "metadata": {},
   "outputs": [
    {
     "data": {
      "text/plain": [
       "\u001b[32m\u001b[1mTest Passed\u001b[22m\u001b[39m"
      ]
     },
     "execution_count": 22,
     "metadata": {},
     "output_type": "execute_result"
    }
   ],
   "source": [
    "ue = DiscretizeUe(C_E, uexact)\n",
    "uh = Me \\ rhs\n",
    "@test isapprox(ue, uh;atol=1e-12)"
   ]
  },
  {
   "cell_type": "code",
   "execution_count": 23,
   "metadata": {},
   "outputs": [
    {
     "data": {
      "text/plain": [
       "8-element Vector{Float64}:\n",
       "  0.0\n",
       " -0.5\n",
       "  0.5\n",
       "  1.0\n",
       " -0.5\n",
       "  0.0\n",
       "  0.0\n",
       " -0.5"
      ]
     },
     "execution_count": 23,
     "metadata": {},
     "output_type": "execute_result"
    }
   ],
   "source": [
    "ue"
   ]
  },
  {
   "cell_type": "code",
   "execution_count": null,
   "metadata": {},
   "outputs": [],
   "source": []
  },
  {
   "cell_type": "code",
   "execution_count": null,
   "metadata": {},
   "outputs": [],
   "source": []
  }
 ],
 "metadata": {
  "kernelspec": {
   "display_name": "Julia 1.6.0",
   "language": "julia",
   "name": "julia-1.6"
  },
  "language_info": {
   "file_extension": ".jl",
   "mimetype": "application/julia",
   "name": "julia",
   "version": "1.6.0"
  }
 },
 "nbformat": 4,
 "nbformat_minor": 4
}
