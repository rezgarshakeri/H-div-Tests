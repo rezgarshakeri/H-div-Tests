{
 "cells": [
  {
   "cell_type": "code",
   "execution_count": 1,
   "metadata": {},
   "outputs": [],
   "source": [
    "using Plots\n",
    "using LinearAlgebra\n",
    "using Jacobi\n",
    "using Test\n",
    "using SparseArrays"
   ]
  },
  {
   "cell_type": "code",
   "execution_count": 2,
   "metadata": {},
   "outputs": [
    {
     "data": {
      "text/plain": [
       "TrilinearMap (generic function with 1 method)"
      ]
     },
     "execution_count": 2,
     "metadata": {},
     "output_type": "execute_result"
    }
   ],
   "source": [
    "function TrilinearMap(Coord_E, xhat, yhat, zhat)\n",
    "    \"\"\"\n",
    "        local numbering of Hex\n",
    "    \n",
    "        5--------7           z\n",
    "      / |      / |            |\n",
    "    6 --|---- 8  |            |\n",
    "    |   |     |  |            /----y\n",
    "    |   |     |  |           /\n",
    "    |   1 -------3         x\n",
    "    | /       | /\n",
    "    2 --------4\n",
    "    \"\"\"\n",
    "    m = length(xhat)\n",
    "    N1 = @. 0.125*(1-xhat)*(1-yhat)*(1-zhat)\n",
    "    N2 = @. 0.125*(1+xhat)*(1-yhat)*(1-zhat)\n",
    "    N3 = @. 0.125*(1-xhat)*(1+yhat)*(1-zhat)\n",
    "    N4 = @. 0.125*(1+xhat)*(1+yhat)*(1-zhat)\n",
    "    N5 = @. 0.125*(1-xhat)*(1-yhat)*(1+zhat)\n",
    "    N6 = @. 0.125*(1+xhat)*(1-yhat)*(1+zhat)\n",
    "    N7 = @. 0.125*(1-xhat)*(1+yhat)*(1+zhat)\n",
    "    N8 = @. 0.125*(1+xhat)*(1+yhat)*(1+zhat)\n",
    "    N = [N1 N2 N3 N4 N5 N6 N7 N8]\n",
    "    X = N * Coord_E\n",
    "    # X(3,m), 1st row x, 2nd row y, 3rd row z\n",
    "    X = X'\n",
    "    # derivatives of shape functions with respect to xhat\n",
    "    dN1_dxhat = @. -0.125*(1-yhat)*(1-zhat)\n",
    "    dN2_dxhat = -dN1_dxhat\n",
    "    dN3_dxhat = @. -0.125*(1+yhat)*(1-zhat)\n",
    "    dN4_dxhat = -dN3_dxhat\n",
    "    dN5_dxhat = @. -0.125*(1-yhat)*(1+zhat)\n",
    "    dN6_dxhat = -dN5_dxhat\n",
    "    dN7_dxhat = @. -0.125*(1+yhat)*(1+zhat)\n",
    "    dN8_dxhat = -dN7_dxhat\n",
    "\n",
    "    # derivatives of shape functions with respect to yhat\n",
    "    dN1_dyhat = @. -0.125*(1-xhat)*(1-zhat)\n",
    "    dN2_dyhat = @. -0.125*(1+xhat)*(1-zhat)\n",
    "    dN3_dyhat = -dN1_dyhat\n",
    "    dN4_dyhat = -dN2_dyhat\n",
    "    dN5_dyhat = @. -0.125*(1-xhat)*(1+zhat)\n",
    "    dN6_dyhat = @. -0.125*(1+xhat)*(1+zhat)\n",
    "    dN7_dyhat = -dN5_dyhat\n",
    "    dN8_dyhat = -dN6_dyhat\n",
    "\n",
    "    # derivatives of shape functions with respect to zhat\n",
    "    dN1_dzhat = @. -0.125*(1-xhat)*(1-yhat)\n",
    "    dN2_dzhat = @. -0.125*(1+xhat)*(1-yhat)\n",
    "    dN3_dzhat = @. -0.125*(1-xhat)*(1+yhat)\n",
    "    dN4_dzhat = @. -0.125*(1+xhat)*(1+yhat)\n",
    "    dN5_dzhat = -dN1_dzhat\n",
    "    dN6_dzhat = -dN2_dzhat\n",
    "    dN7_dzhat = -dN3_dzhat\n",
    "    dN8_dzhat = -dN4_dzhat\n",
    "    \n",
    "    # gradient of N, [dN/dxhat; dN/dyhat; dN/dzhat]\n",
    "    GradN = zeros(3,m,8)\n",
    "    GradN[1,:,:] = [dN1_dxhat dN2_dxhat dN3_dxhat dN4_dxhat dN5_dxhat dN6_dxhat dN7_dxhat dN8_dxhat]\n",
    "    GradN[2,:,:] = [dN1_dyhat dN2_dyhat dN3_dyhat dN4_dyhat dN5_dyhat dN6_dyhat dN7_dyhat dN8_dyhat]\n",
    "    GradN[3,:,:] = [dN1_dzhat dN2_dzhat dN3_dzhat dN4_dzhat dN5_dzhat dN6_dzhat dN7_dzhat dN8_dzhat]\n",
    "    \n",
    "    # JT = [[dx/dxhat, dy/dxhat, dz/dxhat],\n",
    "    #       [dx/dyhat, dy/dyhat, dz/dyhat],\n",
    "    #       [dx/dzhat, dy/dzhat, dz/dzhat]] (3m x 3)\n",
    "\n",
    "    JTxhat = GradN[1,:,:] * Coord_E\n",
    "    dxdxhat = JTxhat[:,1]\n",
    "    dydxhat = JTxhat[:,2]\n",
    "    dzdxhat = JTxhat[:,3]\n",
    "    JTyhat = GradN[2,:,:] * Coord_E\n",
    "    dxdyhat = JTyhat[:,1]\n",
    "    dydyhat = JTyhat[:,2]\n",
    "    dzdyhat = JTyhat[:,3]\n",
    "    JTzhat = GradN[3,:,:] * Coord_E\n",
    "    dxdzhat = JTzhat[:,1]\n",
    "    dydzhat = JTzhat[:,2]\n",
    "    dzdzhat = JTzhat[:,3]\n",
    "    # compute det\n",
    "    j1 = @. (dxdxhat*dydyhat*dzdzhat + dxdyhat*dydzhat*dzdzhat + dxdzhat*dydxhat*dzdyhat)\n",
    "    j2 = @. (dxdxhat*dydzhat*dzdyhat + dxdyhat*dydxhat*dzdzhat + dxdzhat*dydyhat*dzdxhat)\n",
    "    detJ = @. j1 - j2\n",
    "    \n",
    "    J = zeros(3,m,3)\n",
    "    J[1,:,:] = [dxdxhat dxdyhat dxdzhat]\n",
    "    J[2,:,:] = [dydxhat dydyhat dydzhat]\n",
    "    J[3,:,:] = [dzdxhat dzdyhat dzdzhat]\n",
    "    \n",
    "    return X, J, detJ\n",
    "end"
   ]
  },
  {
   "cell_type": "code",
   "execution_count": 3,
   "metadata": {},
   "outputs": [
    {
     "data": {
      "text/plain": [
       "GetNormal (generic function with 1 method)"
      ]
     },
     "execution_count": 3,
     "metadata": {},
     "output_type": "execute_result"
    }
   ],
   "source": [
    "function GetNormal(Coord_E, xhat, yhat, zhat, face)\n",
    "    \"\"\"\n",
    "    Input:\n",
    "    Coord_E: coordinate of physical element E as a 8x3 matrix\n",
    "    xhat, yhat, zhat: are defined on the reference element Ehat\n",
    "    and should be given as a vector (xhat=[1] or xhat =[1;1],...)\n",
    "    face: that you want the normal\n",
    "    Note the face and xhat, yhat, zhat should be consistent.\n",
    "    \n",
    "    Return:\n",
    "    n: of size(3,m)\n",
    "    le: length of n\n",
    "    \n",
    "    Based on following numbering:\n",
    "    left:     nodes 1,2,5,6 at yhat = -1\n",
    "    right:    nodes 3,4,7,8 at yhat =  1\n",
    "    bottom:   nodes 1,2,3,4 at zhat = -1\n",
    "    top:      nodes 5,6,7,8 at zhat =  1\n",
    "    front:    nodes 2,4,6,8 at xhat =  1\n",
    "    back:     nodes 1,3,5,7 at xhat = -1\n",
    "    \n",
    "    local numbering of Hex\n",
    "    \n",
    "        5--------7           z\n",
    "      / |      / |            |\n",
    "    6 --|---- 8  |            |\n",
    "    |   |     |  |            /----y\n",
    "    |   |     |  |           /\n",
    "    |   1 -------3         x\n",
    "    | /       | /\n",
    "    2 --------4\n",
    "    \"\"\"\n",
    "    X, J, detJ = TrilinearMap(Coord_E, xhat, yhat, zhat)\n",
    "\n",
    "    dxdxhat = J[1,:,1]\n",
    "    dxdyhat = J[1,:,2]\n",
    "    dxdzhat = J[1,:,3]\n",
    "    \n",
    "    dydxhat = J[2,:,1]\n",
    "    dydyhat = J[2,:,2]\n",
    "    dydzhat = J[2,:,3]\n",
    "    \n",
    "    dzdxhat = J[3,:,1]\n",
    "    dzdyhat = J[3,:,2]\n",
    "    dzdzhat = J[3,:,3]\n",
    "\n",
    "    m = length(xhat)\n",
    "    \n",
    "    if face == \"left\" && yhat == -ones(m)\n",
    "        \n",
    "        n1 = @. dydxhat*dzdzhat - dzdxhat*dydzhat\n",
    "        n2 = @. dzdxhat*dxdzhat - dxdxhat*dzdzhat\n",
    "        n3 = @. dxdxhat*dydzhat - dydxhat*dxdzhat\n",
    "        leng = @. sqrt(n1*n1 + n2*n2 + n3*n3)\n",
    "        n = zeros(3,m)\n",
    "        n[1,:] = n1 ./ leng\n",
    "        n[2,:] = n2 ./ leng\n",
    "        n[3,:] = n3 ./ leng \n",
    "    \n",
    "    elseif face == \"right\" && yhat == ones(m)\n",
    "        \n",
    "        n1 = @. dzdxhat*dydzhat - dydxhat*dzdzhat\n",
    "        n2 = @. dxdxhat*dzdzhat - dzdxhat*dxdzhat\n",
    "        n3 = @. dydxhat*dxdzhat - dxdxhat*dydzhat \n",
    "        leng = @. sqrt(n1*n1 + n2*n2 + n3*n3)\n",
    "        n = zeros(3,m)\n",
    "        n[1,:] = n1 ./ leng\n",
    "        n[2,:] = n2 ./ leng\n",
    "        n[3,:] = n3 ./ leng\n",
    "        \n",
    "    elseif face == \"bottom\" && zhat == -ones(m)\n",
    "        \n",
    "        n1 = @. dzdxhat*dydyhat - dydxhat*dzdyhat\n",
    "        n2 = @. dxdxhat*dzdyhat - dzdxhat*dxdyhat\n",
    "        n3 = @. dydxhat*dxdyhat - dxdxhat*dydyhat \n",
    "        leng = @. sqrt(n1*n1 + n2*n2 + n3*n3)\n",
    "        n = zeros(3,m)\n",
    "        n[1,:] = n1 ./ leng\n",
    "        n[2,:] = n2 ./ leng\n",
    "        n[3,:] = n3 ./ leng\n",
    "        \n",
    "    elseif face == \"top\" && zhat == ones(m)\n",
    "        \n",
    "        n1 = @. dydxhat*dzdyhat - dzdxhat*dydyhat \n",
    "        n2 = @. dzdxhat*dxdyhat - dxdxhat*dzdyhat \n",
    "        n3 = @. dxdxhat*dydyhat - dydxhat*dxdyhat \n",
    "        leng = @. sqrt(n1*n1 + n2*n2 + n3*n3)\n",
    "        n = zeros(3,m)\n",
    "        n[1,:] = n1 ./ leng\n",
    "        n[2,:] = n2 ./ leng\n",
    "        n[3,:] = n3 ./ leng\n",
    "        \n",
    "    elseif face == \"front\" && xhat == ones(m)\n",
    "        \n",
    "        n1 = @. dydyhat*dzdzhat - dzdyhat*dydzhat\n",
    "        n2 = @. dzdyhat*dxdzhat - dxdyhat*dzdzhat\n",
    "        n3 = @. dxdyhat*dydzhat - dydyhat*dxdzhat\n",
    "        leng = @. sqrt(n1*n1 + n2*n2 + n3*n3)\n",
    "        n = zeros(3,m)\n",
    "        n[1,:] = n1 ./ leng\n",
    "        n[2,:] = n2 ./ leng\n",
    "        n[3,:] = n3 ./ leng\n",
    "        \n",
    "    elseif face == \"back\" && xhat == -ones(m)\n",
    "        \n",
    "        n1 = @. dzdyhat*dydzhat - dydyhat*dzdzhat \n",
    "        n2 = @. dxdyhat*dzdzhat - dzdyhat*dxdzhat\n",
    "        n3 = @. dydyhat*dxdzhat - dxdyhat*dydzhat \n",
    "        leng = @. sqrt(n1*n1 + n2*n2 + n3*n3)\n",
    "        n = zeros(3,m)\n",
    "        n[1,:] = n1 ./ leng\n",
    "        n[2,:] = n2 ./ leng\n",
    "        n[3,:] = n3 ./ leng \n",
    "    else\n",
    "        error(\"face is not defined\")\n",
    "    \n",
    "    end\n",
    "\n",
    "    return n, leng\n",
    "end"
   ]
  },
  {
   "cell_type": "code",
   "execution_count": 4,
   "metadata": {},
   "outputs": [
    {
     "data": {
      "text/plain": [
       "GetBasis (generic function with 1 method)"
      ]
     },
     "execution_count": 4,
     "metadata": {},
     "output_type": "execute_result"
    }
   ],
   "source": [
    "function GetBasis(xhat, yhat, zhat)\n",
    "\n",
    "    m = length(xhat)\n",
    "    Bx = zeros(m,24)\n",
    "    By = zeros(m,24)\n",
    "    Bz = zeros(m,24)\n",
    "    Bx[:,1] = @. -0.125 + 0.125*xhat + 0.125*yhat + 0.125*zhat + -0.125*xhat*yhat + -0.125*xhat*yhat + -0.125*yhat*zhat + 0.125*xhat*yhat*zhat;\n",
    "    By[:,1] = @. -0.0625 + 0.125*yhat*zhat + 0.0625*yhat*yhat + -0.125*yhat*zhat;\n",
    "    Bz[:,1] = @. -0.0625 + 0.0625*yhat + 0.0625*zhat*zhat + -0.0625*yhat*zhat*zhat;\n",
    "    Bx[:,2] = @. -0.125 + 0.125*xhat + -0.125*yhat + 0.125*zhat + -0.125*xhat*yhat + 0.125*xhat*yhat + 0.125*yhat*zhat + -0.125*xhat*yhat*zhat;\n",
    "    By[:,2] = @. 0.0625 + 0.125*yhat*zhat + -0.0625*yhat*yhat + -0.125*yhat*zhat;\n",
    "    Bz[:,2] = @. -0.0625 + -0.0625*yhat + 0.0625*zhat*zhat + 0.0625*yhat*zhat*zhat;\n",
    "    Bx[:,3] = @. -0.125 + 0.125*xhat + 0.125*yhat + -0.125*zhat + 0.125*xhat*yhat + -0.125*xhat*yhat + 0.125*yhat*zhat + -0.125*xhat*yhat*zhat;\n",
    "    By[:,3] = @. -0.0625 + -0.125*yhat*zhat + 0.0625*yhat*yhat + 0.125*yhat*zhat;\n",
    "    Bz[:,3] = @. 0.0625 + -0.0625*yhat + -0.0625*zhat*zhat + 0.0625*yhat*zhat*zhat;\n",
    "    Bx[:,4] = @. -0.125 + 0.125*xhat + -0.125*yhat + -0.125*zhat + 0.125*xhat*yhat + 0.125*xhat*yhat + -0.125*yhat*zhat + 0.125*xhat*yhat*zhat;\n",
    "    By[:,4] = @. 0.0625 + -0.125*yhat*zhat + -0.0625*yhat*yhat + 0.125*yhat*zhat;\n",
    "    Bz[:,4] = @. 0.0625 + 0.0625*yhat + -0.0625*zhat*zhat + -0.0625*yhat*zhat*zhat;\n",
    "    Bx[:,5] = @. 0.125 + 0.125*xhat + -0.125*yhat + -0.125*zhat + -0.125*xhat*yhat + -0.125*xhat*yhat + 0.125*yhat*zhat + 0.125*xhat*yhat*zhat;\n",
    "    By[:,5] = @. -0.0625 + 0.125*yhat*zhat + 0.0625*yhat*yhat + -0.125*yhat*zhat;\n",
    "    Bz[:,5] = @. -0.0625 + 0.0625*yhat + 0.0625*zhat*zhat + -0.0625*yhat*zhat*zhat;\n",
    "    Bx[:,6] = @. 0.125 + 0.125*xhat + 0.125*yhat + -0.125*zhat + -0.125*xhat*yhat + 0.125*xhat*yhat + -0.125*yhat*zhat + -0.125*xhat*yhat*zhat;\n",
    "    By[:,6] = @. 0.0625 + 0.125*yhat*zhat + -0.0625*yhat*yhat + -0.125*yhat*zhat;\n",
    "    Bz[:,6] = @. -0.0625 + -0.0625*yhat + 0.0625*zhat*zhat + 0.0625*yhat*zhat*zhat;\n",
    "    Bx[:,7] = @. 0.125 + 0.125*xhat + -0.125*yhat + 0.125*zhat + 0.125*xhat*yhat + -0.125*xhat*yhat + -0.125*yhat*zhat + -0.125*xhat*yhat*zhat;\n",
    "    By[:,7] = @. -0.0625 + -0.125*yhat*zhat + 0.0625*yhat*yhat + 0.125*yhat*zhat;\n",
    "    Bz[:,7] = @. 0.0625 + -0.0625*yhat + -0.0625*zhat*zhat + 0.0625*yhat*zhat*zhat;\n",
    "    Bx[:,8] = @. 0.125 + 0.125*xhat + 0.125*yhat + 0.125*zhat + 0.125*xhat*yhat + 0.125*xhat*yhat + 0.125*yhat*zhat + 0.125*xhat*yhat*zhat;\n",
    "    By[:,8] = @. 0.0625 + -0.125*yhat*zhat + -0.0625*yhat*yhat + 0.125*yhat*zhat;\n",
    "    Bz[:,8] = @. 0.0625 + 0.0625*yhat + -0.0625*zhat*zhat + -0.0625*yhat*zhat*zhat;\n",
    "    Bx[:,9] = @. -0.0625 + -0.125*xhat*yhat + 0.125*xhat*yhat + 0.0625*xhat*xhat;\n",
    "    By[:,9] = @. -0.0625 + 0.0625*xhat + 0.0625*yhat*yhat + -0.0625*xhat*yhat*yhat;\n",
    "    Bz[:,9] = @. 0.125 + -0.125*xhat + -0.125*yhat + 0.125*zhat + 0.125*xhat*yhat + 0.125*xhat*yhat*zhat + -0.125*yhat*zhat + -0.125*xhat*zhat;\n",
    "    Bx[:,10] = @. 0.0625 + -0.125*xhat*yhat + 0.125*xhat*yhat + -0.0625*xhat*xhat;\n",
    "    By[:,10] = @. -0.0625 + -0.0625*xhat + 0.0625*yhat*yhat + 0.0625*xhat*yhat*yhat;\n",
    "    Bz[:,10] = @. 0.125 + 0.125*xhat + -0.125*yhat + 0.125*zhat + -0.125*xhat*yhat + -0.125*xhat*yhat*zhat + -0.125*yhat*zhat + 0.125*xhat*zhat;\n",
    "    Bx[:,11] = @. -0.0625 + 0.125*xhat*yhat + -0.125*xhat*yhat + 0.0625*xhat*xhat;\n",
    "    By[:,11] = @. 0.0625 + -0.0625*xhat + -0.0625*yhat*yhat + 0.0625*xhat*yhat*yhat;\n",
    "    Bz[:,11] = @. 0.125 + -0.125*xhat + 0.125*yhat + 0.125*zhat + -0.125*xhat*yhat + -0.125*xhat*yhat*zhat + 0.125*yhat*zhat + -0.125*xhat*zhat;\n",
    "    Bx[:,12] = @. 0.0625 + 0.125*xhat*yhat + -0.125*xhat*yhat + -0.0625*xhat*xhat;\n",
    "    By[:,12] = @. 0.0625 + 0.0625*xhat + -0.0625*yhat*yhat + -0.0625*xhat*yhat*yhat;\n",
    "    Bz[:,12] = @. 0.125 + 0.125*xhat + 0.125*yhat + 0.125*zhat + 0.125*xhat*yhat + 0.125*xhat*yhat*zhat + 0.125*yhat*zhat + 0.125*xhat*zhat;\n",
    "    Bx[:,13] = @. 0.0625 + -0.0625*zhat + 0.0625*xhat*xhat*zhat + -0.0625*xhat*xhat;\n",
    "    By[:,13] = @. -0.125 + -0.125*xhat + 0.125*yhat + 0.125*zhat + 0.125*xhat*zhat + -0.125*xhat*yhat*zhat + 0.125*xhat*yhat + -0.125*yhat*zhat;\n",
    "    Bz[:,13] = @. -0.0625 + -0.125*xhat*zhat + 0.0625*zhat*zhat + 0.125*xhat*zhat;\n",
    "    Bx[:,14] = @. -0.0625 + 0.0625*zhat + -0.0625*xhat*xhat*zhat + 0.0625*xhat*xhat;\n",
    "    By[:,14] = @. -0.125 + 0.125*xhat + 0.125*yhat + 0.125*zhat + -0.125*xhat*zhat + 0.125*xhat*yhat*zhat + -0.125*xhat*yhat + -0.125*yhat*zhat;\n",
    "    Bz[:,14] = @. -0.0625 + 0.125*xhat*zhat + 0.0625*zhat*zhat + -0.125*xhat*zhat;\n",
    "    Bx[:,15] = @. 0.0625 + 0.0625*zhat + -0.0625*xhat*xhat*zhat + -0.0625*xhat*xhat;\n",
    "    By[:,15] = @. -0.125 + -0.125*xhat + 0.125*yhat + -0.125*zhat + -0.125*xhat*zhat + 0.125*xhat*yhat*zhat + 0.125*xhat*yhat + 0.125*yhat*zhat;\n",
    "    Bz[:,15] = @. 0.0625 + -0.125*xhat*zhat + -0.0625*zhat*zhat + 0.125*xhat*zhat;\n",
    "    Bx[:,16] = @. -0.0625 + -0.0625*zhat + 0.0625*xhat*xhat*zhat + 0.0625*xhat*xhat;\n",
    "    By[:,16] = @. -0.125 + 0.125*xhat + 0.125*yhat + -0.125*zhat + 0.125*xhat*zhat + -0.125*xhat*yhat*zhat + -0.125*xhat*yhat + 0.125*yhat*zhat;\n",
    "    Bz[:,16] = @. 0.0625 + 0.125*xhat*zhat + -0.0625*zhat*zhat + -0.125*xhat*zhat;\n",
    "    Bx[:,17] = @. -0.0625 + -0.125*xhat*yhat + 0.125*xhat*yhat + 0.0625*xhat*xhat;\n",
    "    By[:,17] = @. -0.0625 + 0.0625*xhat + 0.0625*yhat*yhat + -0.0625*xhat*yhat*yhat;\n",
    "    Bz[:,17] = @. -0.125 + 0.125*xhat + 0.125*yhat + 0.125*zhat + -0.125*xhat*yhat + 0.125*xhat*yhat*zhat + -0.125*yhat*zhat + -0.125*xhat*zhat;\n",
    "    Bx[:,18] = @. 0.0625 + -0.125*xhat*yhat + 0.125*xhat*yhat + -0.0625*xhat*xhat;\n",
    "    By[:,18] = @. -0.0625 + -0.0625*xhat + 0.0625*yhat*yhat + 0.0625*xhat*yhat*yhat;\n",
    "    Bz[:,18] = @. -0.125 + -0.125*xhat + 0.125*yhat + 0.125*zhat + 0.125*xhat*yhat + -0.125*xhat*yhat*zhat + -0.125*yhat*zhat + 0.125*xhat*zhat;\n",
    "    Bx[:,19] = @. -0.0625 + 0.125*xhat*yhat + -0.125*xhat*yhat + 0.0625*xhat*xhat;\n",
    "    By[:,19] = @. 0.0625 + -0.0625*xhat + -0.0625*yhat*yhat + 0.0625*xhat*yhat*yhat;\n",
    "    Bz[:,19] = @. -0.125 + 0.125*xhat + -0.125*yhat + 0.125*zhat + 0.125*xhat*yhat + -0.125*xhat*yhat*zhat + 0.125*yhat*zhat + -0.125*xhat*zhat;\n",
    "    Bx[:,20] = @. 0.0625 + 0.125*xhat*yhat + -0.125*xhat*yhat + -0.0625*xhat*xhat;\n",
    "    By[:,20] = @. 0.0625 + 0.0625*xhat + -0.0625*yhat*yhat + -0.0625*xhat*yhat*yhat;\n",
    "    Bz[:,20] = @. -0.125 + -0.125*xhat + -0.125*yhat + 0.125*zhat + -0.125*xhat*yhat + 0.125*xhat*yhat*zhat + 0.125*yhat*zhat + 0.125*xhat*zhat;\n",
    "    Bx[:,21] = @. 0.0625 + -0.0625*zhat + 0.0625*xhat*xhat*zhat + -0.0625*xhat*xhat;\n",
    "    By[:,21] = @. 0.125 + 0.125*xhat + 0.125*yhat + -0.125*zhat + -0.125*xhat*zhat + -0.125*xhat*yhat*zhat + 0.125*xhat*yhat + -0.125*yhat*zhat;\n",
    "    Bz[:,21] = @. -0.0625 + -0.125*xhat*zhat + 0.0625*zhat*zhat + 0.125*xhat*zhat;\n",
    "    Bx[:,22] = @. -0.0625 + 0.0625*zhat + -0.0625*xhat*xhat*zhat + 0.0625*xhat*xhat;\n",
    "    By[:,22] = @. 0.125 + -0.125*xhat + 0.125*yhat + -0.125*zhat + 0.125*xhat*zhat + 0.125*xhat*yhat*zhat + -0.125*xhat*yhat + -0.125*yhat*zhat;\n",
    "    Bz[:,22] = @. -0.0625 + 0.125*xhat*zhat + 0.0625*zhat*zhat + -0.125*xhat*zhat;\n",
    "    Bx[:,23] = @. 0.0625 + 0.0625*zhat + -0.0625*xhat*xhat*zhat + -0.0625*xhat*xhat;\n",
    "    By[:,23] = @. 0.125 + 0.125*xhat + 0.125*yhat + 0.125*zhat + 0.125*xhat*zhat + 0.125*xhat*yhat*zhat + 0.125*xhat*yhat + 0.125*yhat*zhat;\n",
    "    Bz[:,23] = @. 0.0625 + -0.125*xhat*zhat + -0.0625*zhat*zhat + 0.125*xhat*zhat;\n",
    "    Bx[:,24] = @. -0.0625 + -0.0625*zhat + 0.0625*xhat*xhat*zhat + 0.0625*xhat*xhat;\n",
    "    By[:,24] = @. 0.125 + -0.125*xhat + 0.125*yhat + 0.125*zhat + -0.125*xhat*zhat + -0.125*xhat*yhat*zhat + -0.125*xhat*yhat + 0.125*yhat*zhat;\n",
    "    Bz[:,24] = @. 0.0625 + 0.125*xhat*zhat + -0.0625*zhat*zhat + -0.125*xhat*zhat;\n",
    "\n",
    "\n",
    "    B = zeros(3m, 24)\n",
    "    B[1:m,:] = Bx[1:m,:]\n",
    "    B[m+1:2*m,:] = By[1:m,:]\n",
    "    B[2*m+1:3*m,:] = Bz[1:m,:]\n",
    "    Dhat = zeros(1,24)\n",
    "    Dhat[1,:] .= 0.125;\n",
    "    Div = repeat(Dhat, inner=(m,1))\n",
    "    \n",
    "    return B, Div\n",
    "end"
   ]
  },
  {
   "cell_type": "code",
   "execution_count": 5,
   "metadata": {},
   "outputs": [
    {
     "data": {
      "text/plain": [
       "GetQuadrature3D (generic function with 1 method)"
      ]
     },
     "execution_count": 5,
     "metadata": {},
     "output_type": "execute_result"
    }
   ],
   "source": [
    "function GetQuadrature3D(Q, quad_mode)\n",
    "    \"\"\" \n",
    "    Input:\n",
    "    Q: number of quadrature points in 1D over [-1,1]\n",
    "    quad_mode: GAUSS or LOBATTO\n",
    "    Return:Gauss Quadrature data over [-1,1]^3.\n",
    "    w: weights of quadrature pts\n",
    "    qx: quadrature pts in x\n",
    "    qy: quadrature pts in y\n",
    "    qz\n",
    "    \"\"\"\n",
    "    \n",
    "    # 1D Gauss\n",
    "    if quad_mode == \"GAUSS\"\n",
    "        q = zgj(Q, 0.0, 0.0)\n",
    "        w1 = wgj(q, 0.0, 0.0)\n",
    "    elseif quad_mode == \"LOBATTO\"\n",
    "        q = zglj(Q, 0.0, 0.0)\n",
    "        w1 = wglj(q, 0.0, 0.0)\n",
    "    end\n",
    "    w = zeros(Q*Q*Q)\n",
    "    qx = zeros(Q*Q*Q)\n",
    "    qy = zeros(Q*Q*Q)\n",
    "    qz = zeros(Q*Q*Q)\n",
    "    for l=1:Q\n",
    "        for i=1:Q\n",
    "            for j=1:Q\n",
    "                k = Q*Q*(l-1) + (i-1)*Q +j\n",
    "                qx[k] = q[j]\n",
    "                qy[k] = q[i]\n",
    "                qz[k] = q[l]\n",
    "                w[k] = w1[j]*w1[i]*w1[l]\n",
    "            end\n",
    "        end\n",
    "    end\n",
    "    return w, qx, qy, qz\n",
    "end"
   ]
  },
  {
   "cell_type": "markdown",
   "metadata": {},
   "source": [
    "# Create rhs qfunction and check with libCEED\n",
    "$$\\int v^T J^T u_e w $$"
   ]
  },
  {
   "cell_type": "code",
   "execution_count": 6,
   "metadata": {},
   "outputs": [
    {
     "data": {
      "text/plain": [
       "VelocityConstant (generic function with 1 method)"
      ]
     },
     "execution_count": 6,
     "metadata": {},
     "output_type": "execute_result"
    }
   ],
   "source": [
    "function VelocityLinear(x, y, z)\n",
    "    m = length(x)\n",
    "    ux = @. (x+y+z)\n",
    "    uy = @. (x-y+z)\n",
    "    uz = @. (x+y-z)\n",
    "    \n",
    "    ue = zeros(3,m)\n",
    "    ue[1,:] = ux\n",
    "    ue[2,:] = uy\n",
    "    ue[3,:] = uz\n",
    "    return ue\n",
    "end\n",
    "\n",
    "function VelocityConstant(x, y, z)\n",
    "    m = length(x)\n",
    "    ux = 1\n",
    "    uy = 2\n",
    "    uz = 3\n",
    "    \n",
    "    ue = zeros(3,m)\n",
    "    ue[1,:] .= ux\n",
    "    ue[2,:] .= uy\n",
    "    ue[3,:] .= uz\n",
    "    return ue\n",
    "end"
   ]
  },
  {
   "cell_type": "code",
   "execution_count": 7,
   "metadata": {},
   "outputs": [
    {
     "data": {
      "text/plain": [
       "GetRhs (generic function with 1 method)"
      ]
     },
     "execution_count": 7,
     "metadata": {},
     "output_type": "execute_result"
    }
   ],
   "source": [
    "function GetRhs(Coord_E, Q, quad_mode, uexact)\n",
    "    \n",
    "    w, qx, qy, qz = GetQuadrature3D(Q, quad_mode)\n",
    "    # total number of quadrature points\n",
    "    num_qpts = Q*Q*Q\n",
    "    # get (x,y,z) on E, detJ,...\n",
    "    coords, dxdX, detJ = TrilinearMap(Coord_E, qx, qy, qz)\n",
    "    x = coords[1,:]\n",
    "    y = coords[2,:]\n",
    "    z = coords[3,:]\n",
    "    \n",
    "    ue = uexact(x,y,z)\n",
    "    # output of qfunction\n",
    "    rhs2 = zeros(3*num_qpts,1)\n",
    "    for i=1:num_qpts\n",
    "        J = dxdX[:,i,:]\n",
    "        uu = ue[:,i]\n",
    "        rhs1 = J' * uu       \n",
    "        # component 1\n",
    "        rhs2[i+0*num_qpts, 1] = rhs1[1] *w[i]\n",
    "        # component 2\n",
    "        rhs2[i+1*num_qpts, 1] = rhs1[2] *w[i]\n",
    "        # component 3\n",
    "        rhs2[i+2*num_qpts, 1] = rhs1[3] *w[i]\n",
    "    end \n",
    "    \n",
    "    B, Div = GetBasis(qx, qy, qz);\n",
    "    # ApplyBasis\n",
    "    rhs = B' * rhs2\n",
    "    \n",
    "    return rhs\n",
    "end"
   ]
  },
  {
   "cell_type": "code",
   "execution_count": 11,
   "metadata": {},
   "outputs": [
    {
     "data": {
      "text/plain": [
       "24×1 Matrix{Float64}:\n",
       " -1.3333333333333326\n",
       " -0.6666666666666663\n",
       " -0.33333333333333315\n",
       "  0.33333333333333315\n",
       " -0.33333333333333304\n",
       "  0.33333333333333304\n",
       "  0.6666666666666663\n",
       "  1.3333333333333328\n",
       "  0.9999999999999991\n",
       "  1.3333333333333326\n",
       "  1.6666666666666654\n",
       "  1.9999999999999987\n",
       " -1.3333333333333328\n",
       " -1.666666666666666\n",
       " -0.33333333333333326\n",
       " -0.6666666666666662\n",
       " -1.999999999999999\n",
       " -1.6666666666666656\n",
       " -1.3333333333333326\n",
       " -0.9999999999999992\n",
       "  0.6666666666666663\n",
       "  0.33333333333333326\n",
       "  1.666666666666666\n",
       "  1.3333333333333326"
      ]
     },
     "execution_count": 11,
     "metadata": {},
     "output_type": "execute_result"
    }
   ],
   "source": [
    "Q = 3\n",
    "C_E = [0. 0. 0.;1. 0. 0.;0. 1. 0.;1. 1. 0.;0. 0. 1.;1. 0. 1.;0. 1. 1.;1. 1. 1.]\n",
    "C_E1 = [0. 0. 0.;0.5 0. 0.;0. 1. 0.;0.5 1. 0.;0. 0. 1.;0.5 0. 1.;0. 1. 1.;0.5 1. 1.]\n",
    "C_E2 = [0.5 0. 0.;1. 0. 0.;0.5 1. 0.;1. 1. 0.;0.5 0. 1.;1. 0. 1.;0.5 1. 1.;1. 1. 1.]\n",
    "mode = \"GAUSS\"\n",
    "#uexact(x,y,z) = VelocityLinear(x,y,z)\n",
    "uexact(x,y,z) = VelocityConstant(x,y,z)\n",
    "rhs = GetRhs(C_E, Q, mode, uexact)"
   ]
  },
  {
   "cell_type": "code",
   "execution_count": 12,
   "metadata": {},
   "outputs": [
    {
     "data": {
      "text/plain": [
       "DiscretizeUe (generic function with 1 method)"
      ]
     },
     "execution_count": 12,
     "metadata": {},
     "output_type": "execute_result"
    }
   ],
   "source": [
    "function DiscretizeUe(Coord_E, uexact)\n",
    "    \"\"\"\n",
    "    This function discretize the vector u = uexact(x,\n",
    "    y,z) on element E\n",
    "    \n",
    "    \n",
    "        local numbering of Hex\n",
    "    \n",
    "        5--------7           z\n",
    "      / |      / |            |\n",
    "    6 --|---- 8  |            |\n",
    "    |   |     |  |            /----y\n",
    "    |   |     |  |           /\n",
    "    |   1 -------3         x\n",
    "    | /       | /\n",
    "    2 --------4\n",
    "    \n",
    "    \n",
    "    \"\"\"\n",
    "    # get the normals\n",
    "    nl, le_l = GetNormal(Coord_E, [0], [-1.],[0],\"left\")\n",
    "    nr, le_r = GetNormal(Coord_E, [0], [1.],[0],\"right\")\n",
    "    nbt, le_bt = GetNormal(Coord_E, [0.], [0.],[-1.],\"bottom\")\n",
    "    nt, le_t = GetNormal(Coord_E, [0.], [0.],[1.],\"top\")\n",
    "    nf, le_f = GetNormal(Coord_E, [1.], [0.],[0.],\"front\")\n",
    "    nbk, le_bk = GetNormal(Coord_E, [-1.], [0.],[0.],\"back\")\n",
    "    \n",
    "    nbt = nbt*le_bt\n",
    "    nt = nt*le_t\n",
    "    nr = nr*le_r\n",
    "    nl = nl*le_l\n",
    "    nf = nf*le_f\n",
    "    nbk = nbk*le_bk\n",
    "\n",
    "    n1 = Coord_E[1,:]\n",
    "    n2 = Coord_E[2,:]\n",
    "    n3 = Coord_E[3,:]\n",
    "    n4 = Coord_E[4,:]\n",
    "    n5 = Coord_E[5,:]\n",
    "    n6 = Coord_E[6,:]\n",
    "    n7 = Coord_E[7,:]\n",
    "    n8 = Coord_E[8,:]\n",
    "    \n",
    "    nodes = [n1 n3 n5 n7 n2 n4 n6 n8 n5 n6 n7 n8 n2 n1 n6 n5 n1 n2 n3 n4 n4 n3 n8 n7]\n",
    "    normals = [nbk nbk nbk nbk nf nf nf nf nt nt nt nt nl nl nl nl nbt nbt nbt nbt nr nr nr nr]\n",
    "    \n",
    "    x = nodes[1,:]\n",
    "    y = nodes[2,:]\n",
    "    z = nodes[3,:]\n",
    "    uu = uexact(x,y,z)\n",
    "    ue = uu[1,:] .* normals[1,:] + uu[2,:] .* normals[2,:] + uu[3,:] .* normals[3,:]\n",
    "    \n",
    "    return ue\n",
    "end\n"
   ]
  },
  {
   "cell_type": "code",
   "execution_count": 13,
   "metadata": {},
   "outputs": [
    {
     "data": {
      "text/plain": [
       "24-element Vector{Float64}:\n",
       " -0.25\n",
       " -0.25\n",
       " -0.25\n",
       " -0.25\n",
       "  0.25\n",
       "  0.25\n",
       "  0.25\n",
       "  0.25\n",
       "  0.75\n",
       "  0.75\n",
       "  0.75\n",
       "  0.75\n",
       " -0.5\n",
       " -0.5\n",
       " -0.5\n",
       " -0.5\n",
       " -0.75\n",
       " -0.75\n",
       " -0.75\n",
       " -0.75\n",
       "  0.5\n",
       "  0.5\n",
       "  0.5\n",
       "  0.5"
      ]
     },
     "execution_count": 13,
     "metadata": {},
     "output_type": "execute_result"
    }
   ],
   "source": [
    "DiscretizeUe(C_E, uexact)"
   ]
  },
  {
   "cell_type": "markdown",
   "metadata": {},
   "source": [
    "# Create Local Mass Matrix\n",
    "$$(v,u_h) = \\int \\frac{N^T J^T J N w}{detJ} $$"
   ]
  },
  {
   "cell_type": "code",
   "execution_count": 26,
   "metadata": {},
   "outputs": [
    {
     "data": {
      "text/plain": [
       "GetLocalMass (generic function with 1 method)"
      ]
     },
     "execution_count": 26,
     "metadata": {},
     "output_type": "execute_result"
    }
   ],
   "source": [
    "function GetLocalMass(Coord_E, Q, quad_mode)\n",
    "    \n",
    "    w, qx, qy, qz = GetQuadrature3D(Q, quad_mode)\n",
    "    # total number of quadrature points\n",
    "    num_qpts = Q*Q*Q\n",
    "    # get (x,y,z) on E, detJ,...\n",
    "    coords, dxdX, detJ = TrilinearMap(Coord_E, qx, qy, qz)\n",
    "    \n",
    "    N, Div = GetBasis(qx, qy, qz);\n",
    "    # output of qfunction\n",
    "    tmp = zeros(3*num_qpts,24)\n",
    "    uu = zeros(3,24)\n",
    "    for i=1:num_qpts\n",
    "        J = dxdX[:,i,:]\n",
    "        uu[1,:] = N[i+0*num_qpts,:]\n",
    "        uu[2,:] = N[i+1*num_qpts,:]\n",
    "        uu[3,:] = N[i+2*num_qpts,:]\n",
    "        #J^T * J * N * w / detJ\n",
    "        tmp2 = J' * J * uu * w[i] /detJ[i]\n",
    "        # component 1\n",
    "        tmp[i+0*num_qpts, :] = tmp2[1,:]\n",
    "        # component 2\n",
    "        tmp[i+1*num_qpts, :] = tmp2[2,:]\n",
    "        # component 3\n",
    "        tmp[i+2*num_qpts, :] = tmp2[3,:]\n",
    "    end \n",
    "    \n",
    "    # ApplyBasis\n",
    "    Me = N' * tmp\n",
    "    \n",
    "    return Me\n",
    "end"
   ]
  },
  {
   "cell_type": "code",
   "execution_count": 27,
   "metadata": {},
   "outputs": [
    {
     "data": {
      "text/plain": [
       "24×24 Matrix{Float64}:\n",
       "  0.725926     0.285185     0.285185    …  -0.172222    -0.0611111\n",
       "  0.285185     0.614815     0.148148       -0.00555556   0.105556\n",
       "  0.285185     0.148148     0.614815       -0.161111     0.0611111\n",
       "  0.037037     0.285185     0.285185        0.00555556   0.227778\n",
       " -0.162963    -0.159259    -0.159259       -0.0611111   -0.172222\n",
       " -0.159259    -0.274074    -0.0740741   …   0.105556    -0.00555556\n",
       " -0.159259    -0.0740741   -0.274074        0.0611111   -0.161111\n",
       " -0.185185    -0.159259    -0.159259        0.227778     0.00555556\n",
       "  0.00555556  -0.00555556   0.227778       -0.00555556   0.00555556\n",
       " -0.161111    -0.172222     0.0611111       0.00555556  -0.00555556\n",
       " -0.00555556   0.00555556   0.105556    …   0.105556     0.227778\n",
       " -0.172222    -0.161111    -0.0611111       0.227778     0.105556\n",
       "  0.00555556  -0.161111    -0.00555556     -0.159259    -0.12963\n",
       "  0.227778     0.0611111    0.105556       -0.12963     -0.159259\n",
       " -0.00555556  -0.172222     0.00555556     -0.218519    -0.159259\n",
       "  0.105556    -0.0611111    0.227778    …  -0.159259    -0.218519\n",
       "  0.227778     0.105556     0.00555556     -0.172222    -0.161111\n",
       "  0.0611111   -0.0611111   -0.161111       -0.161111    -0.172222\n",
       "  0.105556     0.227778    -0.00555556     -0.0611111    0.0611111\n",
       " -0.0611111    0.0611111   -0.172222        0.0611111   -0.0611111\n",
       " -0.161111     0.00555556  -0.172222    …   0.285185     0.0925926\n",
       "  0.0611111    0.227778    -0.0611111       0.0925926    0.285185\n",
       " -0.172222    -0.00555556  -0.161111        0.67037      0.285185\n",
       " -0.0611111    0.105556     0.0611111       0.285185     0.67037"
      ]
     },
     "execution_count": 27,
     "metadata": {},
     "output_type": "execute_result"
    }
   ],
   "source": [
    "Me = GetLocalMass(C_E, Q, mode)"
   ]
  },
  {
   "cell_type": "markdown",
   "metadata": {},
   "source": [
    "# Test Mass matrix"
   ]
  },
  {
   "cell_type": "code",
   "execution_count": 29,
   "metadata": {},
   "outputs": [
    {
     "data": {
      "text/plain": [
       "\u001b[32m\u001b[1mTest Passed\u001b[22m\u001b[39m"
      ]
     },
     "execution_count": 29,
     "metadata": {},
     "output_type": "execute_result"
    }
   ],
   "source": [
    "ue = DiscretizeUe(C_E, uexact)\n",
    "uh = Me \\ rhs\n",
    "@test isapprox(ue, uh;atol=1e-12)"
   ]
  },
  {
   "cell_type": "code",
   "execution_count": 30,
   "metadata": {},
   "outputs": [
    {
     "data": {
      "text/plain": [
       "24-element Vector{Float64}:\n",
       "  0.0\n",
       " -0.25\n",
       " -0.25\n",
       " -0.5\n",
       "  0.25\n",
       "  0.5\n",
       "  0.5\n",
       "  0.75\n",
       " -0.25\n",
       "  0.0\n",
       "  0.0\n",
       "  0.25\n",
       " -0.25\n",
       "  0.0\n",
       " -0.5\n",
       " -0.25\n",
       "  0.0\n",
       " -0.25\n",
       " -0.25\n",
       " -0.5\n",
       "  0.0\n",
       " -0.25\n",
       "  0.25\n",
       "  0.0"
      ]
     },
     "execution_count": 30,
     "metadata": {},
     "output_type": "execute_result"
    }
   ],
   "source": [
    "ue"
   ]
  },
  {
   "cell_type": "code",
   "execution_count": null,
   "metadata": {},
   "outputs": [],
   "source": []
  }
 ],
 "metadata": {
  "kernelspec": {
   "display_name": "Julia 1.6.0",
   "language": "julia",
   "name": "julia-1.6"
  },
  "language_info": {
   "file_extension": ".jl",
   "mimetype": "application/julia",
   "name": "julia",
   "version": "1.6.0"
  }
 },
 "nbformat": 4,
 "nbformat_minor": 4
}
