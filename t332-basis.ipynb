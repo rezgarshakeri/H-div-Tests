{
 "cells": [
  {
   "cell_type": "code",
   "execution_count": 1,
   "metadata": {},
   "outputs": [],
   "source": [
    "using LinearAlgebra\n",
    "using Jacobi\n",
    "using Test"
   ]
  },
  {
   "cell_type": "code",
   "execution_count": 2,
   "metadata": {},
   "outputs": [
    {
     "data": {
      "text/plain": [
       "GetBasis (generic function with 1 method)"
      ]
     },
     "execution_count": 2,
     "metadata": {},
     "output_type": "execute_result"
    }
   ],
   "source": [
    "function GetBasis(xhat, yhat)\n",
    "    \"\"\"\n",
    "    We create basis as a matrix of size (2*num_qpts,8)\n",
    "    The first 1:num_qpts is dof in x-direction\n",
    "    and num_qpts+1:2*num_qpts is dof in y-direction\n",
    "    And\n",
    "    Div operator as a matrix (num_qpts,8)\n",
    "    \"\"\"\n",
    "    m = length(xhat)\n",
    "    Bx = zeros(m,8)\n",
    "    By = zeros(m,8) \n",
    "    Bx[:,1] = @. -0.125 + 0.125*xhat*xhat;\n",
    "    By[:,1] = @. -0.25 + 0.25*xhat + 0.25*yhat + -0.25*xhat*yhat;\n",
    "    Bx[:,2] = @. 0.125 + -0.125*xhat*xhat;\n",
    "    By[:,2] = @. -0.25 + -0.25*xhat + 0.25*yhat + 0.25*xhat*yhat;\n",
    "    Bx[:,3] = @. 0.25 + 0.25*xhat + -0.25*yhat + -0.25*xhat*yhat;\n",
    "    By[:,3] = @. -0.125 + 0.125*yhat*yhat;\n",
    "    Bx[:,4] = @. 0.25 + 0.25*xhat + 0.25*yhat + 0.25*xhat*yhat;\n",
    "    By[:,4] = @. 0.125 + -0.125*yhat*yhat;\n",
    "    Bx[:,5] = @. -0.125 + 0.125*xhat*xhat;\n",
    "    By[:,5] = @. 0.25 + -0.25*xhat + 0.25*yhat + -0.25*xhat*yhat;\n",
    "    Bx[:,6] = @. 0.125 + -0.125*xhat*xhat;\n",
    "    By[:,6] = @. 0.25 + 0.25*xhat + 0.25*yhat + 0.25*xhat*yhat;\n",
    "    Bx[:,7] = @. -0.25 + 0.25*xhat + 0.25*yhat + -0.25*xhat*yhat;\n",
    "    By[:,7] = @. -0.125 + 0.125*yhat*yhat;\n",
    "    Bx[:,8] = @. -0.25 + 0.25*xhat + -0.25*yhat + 0.25*xhat*yhat;\n",
    "    By[:,8] = @. 0.125 + -0.125*yhat*yhat\n",
    "\n",
    "    B = zeros(2m,8)\n",
    "    B[1:m,:] = Bx[1:m,:]\n",
    "    B[m+1:2*m,:] = By[1:m,:]\n",
    "    \n",
    "    Dhat = zeros(1,8)\n",
    "    Dhat[1,:] .= 0.25;\n",
    "    Div = repeat(Dhat, inner=(m,1))\n",
    "    \n",
    "    return B, Div\n",
    "end"
   ]
  },
  {
   "cell_type": "code",
   "execution_count": 3,
   "metadata": {},
   "outputs": [
    {
     "data": {
      "text/plain": [
       "GetQuadrature2D (generic function with 1 method)"
      ]
     },
     "execution_count": 3,
     "metadata": {},
     "output_type": "execute_result"
    }
   ],
   "source": [
    "function GetQuadrature2D(Q, quad_mode)\n",
    "    \"\"\" \n",
    "    Input:\n",
    "    Q: number of quadrature points in 1D over [-1,1]\n",
    "    quad_mode: GAUSS or LOBATTO\n",
    "    Return:Gauss Quadrature over [-1,1]^2.\n",
    "    qx:\n",
    "    qy:\n",
    "    w2:\n",
    "    \"\"\"\n",
    "    \n",
    "    # 1D Gauss\n",
    "    if quad_mode == \"GAUSS\"\n",
    "        q = zgj(Q, 0.0, 0.0)\n",
    "        w = wgj(q, 0.0, 0.0)\n",
    "    elseif quad_mode == \"LOBATTO\"\n",
    "        q = zglj(Q, 0.0, 0.0)\n",
    "        w = wglj(q, 0.0, 0.0)\n",
    "    end\n",
    "    w2 = zeros(Q*Q)\n",
    "    qx = zeros(Q*Q)\n",
    "    qy = zeros(Q*Q)\n",
    "    for i=1:Q\n",
    "        for j=1:Q\n",
    "            k = (i-1)*Q +j\n",
    "            qx[k] = q[j]\n",
    "            qy[k] = q[i]\n",
    "            w2[k] = w[j]*w[i]\n",
    "        end\n",
    "    end\n",
    "    return w2, qx, qy\n",
    "end"
   ]
  },
  {
   "cell_type": "markdown",
   "metadata": {},
   "source": [
    "# Test Basis Apply, divergence"
   ]
  },
  {
   "cell_type": "code",
   "execution_count": 5,
   "metadata": {},
   "outputs": [
    {
     "data": {
      "text/plain": [
       "\u001b[32m\u001b[1mTest Passed\u001b[22m\u001b[39m"
      ]
     },
     "execution_count": 5,
     "metadata": {},
     "output_type": "execute_result"
    }
   ],
   "source": [
    "P = 8\n",
    "Q = 3\n",
    "num_qpts = Q*Q\n",
    "w2, qx, qy = GetQuadrature2D(Q, \"GAUSS\")\n",
    "B, Div = GetBasis(qx, qy);\n",
    "# CeedBasisApply(b, 1, CEED_NOTRANSPOSE, CEED_EVAL_DIV, X, Y);\n",
    "X = ones(P)\n",
    "Y = Div *X;\n",
    "Z = (P*0.25)*ones(num_qpts)\n",
    "@test Y ≈ Z"
   ]
  },
  {
   "cell_type": "code",
   "execution_count": 6,
   "metadata": {},
   "outputs": [
    {
     "data": {
      "text/plain": [
       "\u001b[32m\u001b[1mTest Passed\u001b[22m\u001b[39m"
      ]
     },
     "execution_count": 6,
     "metadata": {},
     "output_type": "execute_result"
    }
   ],
   "source": [
    "Q = 6\n",
    "num_qpts = Q*Q\n",
    "w2, qx, qy = GetQuadrature2D(Q, \"GAUSS\")\n",
    "B, Div = GetBasis(qx, qy);\n",
    "# CeedBasisApply(b, 1, CEED_TRANSPOSE, CEED_EVAL_DIV, X, Y);\n",
    "X = ones(num_qpts)\n",
    "Y = Div' *X;\n",
    "Z = (num_qpts*0.25)*ones(P)\n",
    "@test Y ≈ Z"
   ]
  }
 ],
 "metadata": {
  "kernelspec": {
   "display_name": "Julia 1.6.0",
   "language": "julia",
   "name": "julia-1.6"
  },
  "language_info": {
   "file_extension": ".jl",
   "mimetype": "application/julia",
   "name": "julia",
   "version": "1.6.0"
  }
 },
 "nbformat": 4,
 "nbformat_minor": 4
}
